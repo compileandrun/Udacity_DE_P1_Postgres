{
 "cells": [
  {
   "cell_type": "code",
   "execution_count": 2,
   "id": "675befba",
   "metadata": {},
   "outputs": [],
   "source": [
    "# Modules/packages are not directly needed here if they are imported in the other .py files which need these libraries.\n",
    "#import os\n",
    "#import glob\n",
    "#import psycopg2\n",
    "#import sqlalchemy\n",
    "import pandas as pd\n",
    "from sql_queries import *\n",
    "import datetime\n",
    "import create_tables_kc\n",
    "import etl\n",
    "import test_kc\n",
    "from sqlalchemy_schemadisplay import create_schema_graph\n",
    "from sqlalchemy import MetaData\n",
    "import pydot\n",
    "import graphviz"
   ]
  },
  {
   "cell_type": "code",
   "execution_count": 3,
   "id": "4fa13ef2",
   "metadata": {},
   "outputs": [],
   "source": [
    "table_names = [\"songs\",\"artists\",\"users\",\"date_time\",\"songplays\"]"
   ]
  },
  {
   "cell_type": "code",
   "execution_count": 4,
   "id": "dc754bc1",
   "metadata": {},
   "outputs": [
    {
     "name": "stdout",
     "output_type": "stream",
     "text": [
      "connection created \n",
      "\n",
      "Dropping Tables\n",
      "Table dropped: DROP TABLE IF EXISTS songplays\n",
      "Dropping Tables\n",
      "Table dropped: DROP TABLE IF EXISTS  users\n",
      "Dropping Tables\n",
      "Table dropped: DROP TABLE IF EXISTS songs\n",
      "Dropping Tables\n",
      "Table dropped: DROP TABLE IF EXISTS artists\n",
      "Dropping Tables\n",
      "Table dropped: DROP TABLE IF EXISTS date_time\n",
      "all tables are created\n"
     ]
    }
   ],
   "source": [
    "cur,conn = create_tables_kc.create_database()\n",
    "create_tables_kc.drop_tables(cur,conn)\n",
    "create_tables_kc.create_tables(cur,conn)"
   ]
  },
  {
   "cell_type": "code",
   "execution_count": 4,
   "id": "c4b01970",
   "metadata": {},
   "outputs": [],
   "source": [
    "#conn.close()"
   ]
  },
  {
   "cell_type": "code",
   "execution_count": 5,
   "id": "59e7f93f",
   "metadata": {},
   "outputs": [
    {
     "name": "stdout",
     "output_type": "stream",
     "text": [
      "0 files found in /Users/koray/Documents/Udacity_DE/project-template/data/song_data\n"
     ]
    },
    {
     "ename": "UnboundLocalError",
     "evalue": "local variable 'i' referenced before assignment",
     "output_type": "error",
     "traceback": [
      "\u001b[0;31m---------------------------------------------------------------------------\u001b[0m",
      "\u001b[0;31mUnboundLocalError\u001b[0m                         Traceback (most recent call last)",
      "Input \u001b[0;32mIn [5]\u001b[0m, in \u001b[0;36m<cell line: 1>\u001b[0;34m()\u001b[0m\n\u001b[0;32m----> 1\u001b[0m \u001b[43metl\u001b[49m\u001b[38;5;241;43m.\u001b[39;49m\u001b[43mmain\u001b[49m\u001b[43m(\u001b[49m\u001b[43m)\u001b[49m\n",
      "File \u001b[0;32m~/Documents/GitHub/Udacity_DE/P1_Postgres/etl.py:128\u001b[0m, in \u001b[0;36mmain\u001b[0;34m()\u001b[0m\n\u001b[1;32m    125\u001b[0m conn \u001b[38;5;241m=\u001b[39m psycopg2\u001b[38;5;241m.\u001b[39mconnect(\u001b[38;5;124m\"\u001b[39m\u001b[38;5;124mhost=127.0.0.1 dbname=sparkifydb user=koray_v2\u001b[39m\u001b[38;5;124m\"\u001b[39m)\n\u001b[1;32m    126\u001b[0m cur \u001b[38;5;241m=\u001b[39m conn\u001b[38;5;241m.\u001b[39mcursor()\n\u001b[0;32m--> 128\u001b[0m \u001b[43mprocess_data\u001b[49m\u001b[43m(\u001b[49m\u001b[43mcur\u001b[49m\u001b[43m,\u001b[49m\u001b[43m \u001b[49m\u001b[43mconn\u001b[49m\u001b[43m,\u001b[49m\u001b[43m \u001b[49m\u001b[43mfilepath\u001b[49m\u001b[38;5;241;43m=\u001b[39;49m\u001b[38;5;124;43m'\u001b[39;49m\u001b[38;5;124;43m/Users/koray/Documents/Udacity_DE/project-template/data/song_data\u001b[39;49m\u001b[38;5;124;43m'\u001b[39;49m\u001b[43m,\u001b[49m\u001b[43m \u001b[49m\u001b[43mfunc\u001b[49m\u001b[38;5;241;43m=\u001b[39;49m\u001b[43mprocess_song_file\u001b[49m\u001b[43m)\u001b[49m\n\u001b[1;32m    129\u001b[0m process_data(cur, conn, filepath\u001b[38;5;241m=\u001b[39m\u001b[38;5;124m'\u001b[39m\u001b[38;5;124m/Users/koray/Documents/Udacity_DE/project-template/data/log_data\u001b[39m\u001b[38;5;124m'\u001b[39m, func\u001b[38;5;241m=\u001b[39mprocess_log_file)\n\u001b[1;32m    131\u001b[0m conn\u001b[38;5;241m.\u001b[39mclose()\n",
      "File \u001b[0;32m~/Documents/GitHub/Udacity_DE/P1_Postgres/etl.py:121\u001b[0m, in \u001b[0;36mprocess_data\u001b[0;34m(cur, conn, filepath, func)\u001b[0m\n\u001b[1;32m    119\u001b[0m     func(cur, datafile)\n\u001b[1;32m    120\u001b[0m     conn\u001b[38;5;241m.\u001b[39mcommit()\n\u001b[0;32m--> 121\u001b[0m \u001b[38;5;28mprint\u001b[39m(\u001b[38;5;124m'\u001b[39m\u001b[38;5;132;01m{}\u001b[39;00m\u001b[38;5;124m/\u001b[39m\u001b[38;5;132;01m{}\u001b[39;00m\u001b[38;5;124m files processed.\u001b[39m\u001b[38;5;124m'\u001b[39m\u001b[38;5;241m.\u001b[39mformat(\u001b[43mi\u001b[49m, num_files))\n",
      "\u001b[0;31mUnboundLocalError\u001b[0m: local variable 'i' referenced before assignment"
     ]
    }
   ],
   "source": [
    "etl.main()"
   ]
  },
  {
   "cell_type": "code",
   "execution_count": 6,
   "id": "ad513a67",
   "metadata": {},
   "outputs": [
    {
     "name": "stdout",
     "output_type": "stream",
     "text": [
      "<class 'pandas.core.frame.DataFrame'>\n",
      "Index: 0 entries\n",
      "Data columns (total 5 columns):\n",
      " #   Column     Non-Null Count  Dtype \n",
      "---  ------     --------------  ----- \n",
      " 0   song_id    0 non-null      object\n",
      " 1   title      0 non-null      object\n",
      " 2   artist_id  0 non-null      object\n",
      " 3   year       0 non-null      object\n",
      " 4   duration   0 non-null      object\n",
      "dtypes: object(5)\n",
      "memory usage: 0.0+ bytes\n",
      "Empty DataFrame\n",
      "Columns: [song_id, title, artist_id, year, duration]\n",
      "Index: [] \n",
      " None n\n",
      "<class 'pandas.core.frame.DataFrame'>\n",
      "Index: 0 entries\n",
      "Data columns (total 5 columns):\n",
      " #   Column       Non-Null Count  Dtype \n",
      "---  ------       --------------  ----- \n",
      " 0   artist_id    0 non-null      object\n",
      " 1   artist_name  0 non-null      object\n",
      " 2   location     0 non-null      object\n",
      " 3   latitude     0 non-null      object\n",
      " 4   longitude    0 non-null      object\n",
      "dtypes: object(5)\n",
      "memory usage: 0.0+ bytes\n",
      "Empty DataFrame\n",
      "Columns: [artist_id, artist_name, location, latitude, longitude]\n",
      "Index: [] \n",
      " None n\n",
      "<class 'pandas.core.frame.DataFrame'>\n",
      "Index: 0 entries\n",
      "Data columns (total 5 columns):\n",
      " #   Column      Non-Null Count  Dtype \n",
      "---  ------      --------------  ----- \n",
      " 0   user_id     0 non-null      object\n",
      " 1   first_name  0 non-null      object\n",
      " 2   last_name   0 non-null      object\n",
      " 3   gender      0 non-null      object\n",
      " 4   level       0 non-null      object\n",
      "dtypes: object(5)\n",
      "memory usage: 0.0+ bytes\n",
      "Empty DataFrame\n",
      "Columns: [user_id, first_name, last_name, gender, level]\n",
      "Index: [] \n",
      " None n\n",
      "<class 'pandas.core.frame.DataFrame'>\n",
      "Index: 0 entries\n",
      "Data columns (total 7 columns):\n",
      " #   Column      Non-Null Count  Dtype \n",
      "---  ------      --------------  ----- \n",
      " 0   start_time  0 non-null      object\n",
      " 1   hour        0 non-null      object\n",
      " 2   day         0 non-null      object\n",
      " 3   week        0 non-null      object\n",
      " 4   month       0 non-null      object\n",
      " 5   year        0 non-null      object\n",
      " 6   weekday     0 non-null      object\n",
      "dtypes: object(7)\n",
      "memory usage: 0.0+ bytes\n",
      "Empty DataFrame\n",
      "Columns: [start_time, hour, day, week, month, year, weekday]\n",
      "Index: [] \n",
      " None n\n",
      "<class 'pandas.core.frame.DataFrame'>\n",
      "Index: 0 entries\n",
      "Data columns (total 9 columns):\n",
      " #   Column       Non-Null Count  Dtype \n",
      "---  ------       --------------  ----- \n",
      " 0   songplay_id  0 non-null      object\n",
      " 1   start_time   0 non-null      object\n",
      " 2   user_id      0 non-null      object\n",
      " 3   level        0 non-null      object\n",
      " 4   song_id      0 non-null      object\n",
      " 5   artist_id    0 non-null      object\n",
      " 6   session_id   0 non-null      object\n",
      " 7   location     0 non-null      object\n",
      " 8   user_agent   0 non-null      object\n",
      "dtypes: object(9)\n",
      "memory usage: 0.0+ bytes\n",
      "Empty DataFrame\n",
      "Columns: [songplay_id, start_time, user_id, level, song_id, artist_id, session_id, location, user_agent]\n",
      "Index: [] \n",
      " None n\n"
     ]
    }
   ],
   "source": [
    "for i in table_names:\n",
    "    df = test_kc.test_table(cur,conn,i)\n",
    "    print(df.head(),'\\n',df.info(),\"n\")"
   ]
  },
  {
   "cell_type": "code",
   "execution_count": null,
   "id": "56c2aaeb",
   "metadata": {},
   "outputs": [],
   "source": [
    "#Just another way to test the results\n",
    "cur.execute(\"select * from %s where song_id is not null\" % table_names[4])\n",
    "conn.commit()\n",
    "records = pd.DataFrame(cur.fetchall())\n",
    "records"
   ]
  },
  {
   "cell_type": "code",
   "execution_count": null,
   "id": "7f5b8eac",
   "metadata": {},
   "outputs": [],
   "source": [
    "#conn.close()"
   ]
  },
  {
   "cell_type": "code",
   "execution_count": null,
   "id": "fd7ef041",
   "metadata": {},
   "outputs": [],
   "source": [
    "create_tables_kc.erd()"
   ]
  },
  {
   "cell_type": "code",
   "execution_count": null,
   "id": "fc953d02",
   "metadata": {},
   "outputs": [],
   "source": [
    "#graph = create_schema_graph(metadata=MetaData('postgresql://koray_v2@127.0.0.1/sparkifydb'))\n",
    "#graph.write_png('sparkifydb_erd.png')"
   ]
  },
  {
   "cell_type": "code",
   "execution_count": null,
   "id": "8d6053a8",
   "metadata": {},
   "outputs": [],
   "source": []
  }
 ],
 "metadata": {
  "kernelspec": {
   "display_name": "Python 3 (ipykernel)",
   "language": "python",
   "name": "python3"
  },
  "language_info": {
   "codemirror_mode": {
    "name": "ipython",
    "version": 3
   },
   "file_extension": ".py",
   "mimetype": "text/x-python",
   "name": "python",
   "nbconvert_exporter": "python",
   "pygments_lexer": "ipython3",
   "version": "3.9.12"
  }
 },
 "nbformat": 4,
 "nbformat_minor": 5
}
